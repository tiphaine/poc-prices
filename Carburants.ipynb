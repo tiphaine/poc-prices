{
 "cells": [
  {
   "cell_type": "markdown",
   "metadata": {},
   "source": [
    "# Carburants data extraction for personal poc\n",
    "\n",
    "The aim is to automate data extraction, formatting and indexation in Elasticsearch.\n",
    "\n",
    "Data on gaz stations':\n",
    "* id\n",
    "* localization (longitude, latitude, city, adress, zip code)\n",
    "* gaz prices\n",
    "* is it open or closed?\n",
    "* opening hours\n",
    "\n",
    "This was used for test and exploration, I wrote a cli `carburants.py` to do all this in one line."
   ]
  },
  {
   "cell_type": "code",
   "execution_count": 27,
   "metadata": {
    "collapsed": false
   },
   "outputs": [],
   "source": [
    "import json\n",
    "import requests\n",
    "import xmltodict\n",
    "\n",
    "from collections import defaultdict\n",
    "from copy import deepcopy\n",
    "from io import BytesIO\n",
    "from os import listdir, mkdir\n",
    "from os.path import exists\n",
    "from zipfile import ZipFile\n",
    "\n",
    "URL_CARBURANTS_WEEK = 'http://donnees.roulez-eco.fr/opendata/jour'\n",
    "URL_CARBURANTS_YEAR = 'http://donnees.roulez-eco.fr/opendata/annee'"
   ]
  },
  {
   "cell_type": "code",
   "execution_count": 4,
   "metadata": {
    "collapsed": false
   },
   "outputs": [],
   "source": [
    "def get_latest_carburant_values(data_type='week', destination_dir='carburants'):\n",
    "    if data_type.lower() == 'week':\n",
    "        url = URL_CARBURANTS_WEEK\n",
    "    else:\n",
    "        url = URL_CARBURANTS_YEAR\n",
    "    request = requests.get(url)\n",
    "    zf = ZipFile(BytesIO(request.content))\n",
    "    zf.extractall(destination_dir)\n",
    "    return ['{}/{}'.format(destination_dir, file) for file in listdir(destination_dir)]\n",
    "\n",
    "def read_carburant_values(xml_file):\n",
    "    with open(xml_file, encoding=\"ISO-8859-1\") as fd:\n",
    "        values = xmltodict.parse(fd.read())\n",
    "    return values\n"
   ]
  },
  {
   "cell_type": "code",
   "execution_count": 5,
   "metadata": {
    "collapsed": false
   },
   "outputs": [],
   "source": [
    "carburant_xml = get_latest_carburant_values()\n",
    "carburant_pdvs = read_carburant_values(carburant_xml.pop())"
   ]
  },
  {
   "cell_type": "code",
   "execution_count": 6,
   "metadata": {
    "collapsed": false
   },
   "outputs": [],
   "source": [
    "def extract_pdv_data(pdvs):\n",
    "    data_pdvs = defaultdict(dict)\n",
    "    for index, pdv in enumerate(carburant_pdvs['pdv_liste']['pdv']):\n",
    "        pdv_id = pdv['@id']\n",
    "        if 'fermeture' not in pdv.keys():\n",
    "            data_pdvs[pdv_id]['cp'] = pdv['@cp']\n",
    "            data_pdvs[pdv_id]['localisation'] = {}\n",
    "            try:\n",
    "                data_pdvs[pdv_id]['localisation']['lat'] =  float(pdv['@latitude']) / 100000\n",
    "                data_pdvs[pdv_id]['localisation']['lon'] = float(pdv['@longitude']) / 100000\n",
    "            except ValueError:\n",
    "                pass\n",
    "            data_pdvs[pdv_id]['adresse'] =  pdv['adresse'].lower()\n",
    "            data_pdvs[pdv_id]['saufjour'] =  pdv['ouverture']['@saufjour'].lower()\n",
    "            try:\n",
    "                data_pdvs[pdv_id]['prix'] = get_prices(pdv['prix'])\n",
    "            except KeyError:\n",
    "                pass\n",
    "            data_pdvs[pdv_id]['ville'] = pdv['ville']\n",
    "    return data_pdvs\n",
    "    \n",
    "def get_prices(prices):\n",
    "    clean_prices = {}\n",
    "    if isinstance(prices, dict):\n",
    "        prices['@nom'] = float(prices['@valeur']) / 1000.0\n",
    "    else:\n",
    "        for price in prices:\n",
    "            clean_prices[price['@nom']] = float(price['@valeur']) / 1000.0\n",
    "    return clean_prices"
   ]
  },
  {
   "cell_type": "code",
   "execution_count": 7,
   "metadata": {
    "collapsed": false
   },
   "outputs": [],
   "source": [
    "data_pdvs = extract_pdv_data(carburant_pdvs['pdv_liste']['pdv'])"
   ]
  },
  {
   "cell_type": "code",
   "execution_count": 8,
   "metadata": {
    "collapsed": false
   },
   "outputs": [
    {
     "data": {
      "text/plain": [
       "{'adresse': '2 rue de la libération',\n",
       " 'cp': '90130',\n",
       " 'localisation': {'lat': 47.60565, 'lon': 7.004},\n",
       " 'prix': {'Gazole': 1.099, 'SP95': 1.329},\n",
       " 'saufjour': '',\n",
       " 'ville': 'Montreux-Château'}"
      ]
     },
     "execution_count": 8,
     "metadata": {},
     "output_type": "execute_result"
    }
   ],
   "source": [
    "data_pdvs['90130001']"
   ]
  },
  {
   "cell_type": "code",
   "execution_count": 9,
   "metadata": {
    "collapsed": false
   },
   "outputs": [],
   "source": [
    "carburant_json = 'carburants.json'\n",
    "with open(carburant_json, 'w') as fw:\n",
    "    json.dump(data_pdvs, fw)"
   ]
  },
  {
   "cell_type": "markdown",
   "metadata": {
    "collapsed": true
   },
   "source": [
    "## Putting data in elasticsearch "
   ]
  },
  {
   "cell_type": "code",
   "execution_count": 53,
   "metadata": {
    "collapsed": false
   },
   "outputs": [],
   "source": [
    "def rewrite_for_bulk(carburant_json, carburant_bulk, index_name='carburants', doc_type='pdv'):\n",
    "    with open(carburant_json, 'r') as fp:\n",
    "        carburants_data = json.load(fp)\n",
    "    with open(carburant_bulk, 'w') as fw:\n",
    "        for pdv_id, pdv_infos in carburants_data.items():\n",
    "            pdv_for_es = deepcopy(pdv_infos)\n",
    "            pdv_for_es['id'] = pdv_id\n",
    "            fw.write('{ \"index\" : { \"_index\" : \"%s\", \"_type\" : \"%s\", \"_id\" : \"%s\" } }\\n' % (index_name, doc_type, pdv_id))\n",
    "            fw.write(json.dumps(pdv_for_es) + '\\n')\n",
    "    return carburants_data"
   ]
  },
  {
   "cell_type": "code",
   "execution_count": 54,
   "metadata": {
    "collapsed": false
   },
   "outputs": [],
   "source": [
    "carburant_bulk = 'es_carburants.json'\n",
    "data = rewrite_for_bulk(carburant_json, carburant_bulk)"
   ]
  },
  {
   "cell_type": "markdown",
   "metadata": {},
   "source": [
    "### Put the mapping in the ES index\n",
    "\n",
    "    curl -XPUT http://localhost:9200/carburants -d '\n",
    "    {\n",
    "        \"mappings\": {\n",
    "            \"pdv\": {\n",
    "                \"properties\": {\n",
    "                    \"id\": {\"type\": \"string\"},\n",
    "                    \"ville\": {\"type\": \"string\"},\n",
    "                    \"adresse\": {\"type\": \"string\"},\n",
    "                    \"saufjour\": {\"type\": \"string\"},\n",
    "                    \"cp\": {\"type\": \"string\"},\n",
    "                    \"localisation\": {\"type\": \"geo_point\"},\n",
    "                    \"prix\": { \n",
    "                        \"dynamic\": \"true\",\n",
    "                        \"properties\": {\n",
    "                            \"sp98\": {\"type\": \"string\"},\n",
    "                            \"sp95\": {\"type\": \"string\"},\n",
    "                            \"gazole\": {\"type\": \"string\"},\n",
    "                            \"e10\": {\"type\": \"string\"}\n",
    "                        }\n",
    "                    }\n",
    "                }\n",
    "            }\n",
    "        }\n",
    "    }\n",
    "    '\n",
    "    \n",
    "    \n",
    "### Bulk json data into the index \n",
    "\n",
    "    curl -s -XPOST localhost:9200/_bulk --data-binary \"@es_carburants.json\"; echo\n",
    "    \n",
    "It's there :) and we can query the closest gaz station thanks to ES's geo-point type! (Check the mapping).\n",
    "    \n",
    "![Sense screenshot of the carburants index](img/es-carburants.png)\n",
    "\n",
    "\n",
    "### Example querying stations using geo distance query\n",
    "\n",
    "    # LATITUDE LONGITUDE QUERY\n",
    "    GET carburants/_search\n",
    "    {\n",
    "      \"query\": {\n",
    "        \"bool\": {\n",
    "          \"must\": {\n",
    "            \"match_all\": {}\n",
    "          },\n",
    "          \"filter\": {\n",
    "            \"geo_distance\": {\n",
    "              \"distance\": \"1km\",\n",
    "              \"localisation\": {\n",
    "                \"lat\": 42.6409,\n",
    "                \"lon\": 2.877\n",
    "              }\n",
    "            }\n",
    "          }\n",
    "        }\n",
    "      }\n",
    "    }\n",
    "    \n",
    "    # LATITUDE LONGITUDE QUERY WITH SPECIFIC GAZ TYPE\n",
    "    GET carburants/_search\n",
    "    {\n",
    "      \"query\": {\n",
    "        \"bool\": {\n",
    "          \"must\": {\n",
    "            \"exists\": {\n",
    "              \"field\": \"prix.SP95\"\n",
    "            }\n",
    "          },\n",
    "          \"filter\": {\n",
    "            \"geo_distance\": {\n",
    "              \"distance\": \"1km\",\n",
    "              \"localisation\": {\n",
    "                \"lat\": 42.6409,\n",
    "                \"lon\": 2.877\n",
    "              }\n",
    "            }\n",
    "          }\n",
    "        }\n",
    "      }\n",
    "    }\n",
    "  "
   ]
  },
  {
   "cell_type": "code",
   "execution_count": null,
   "metadata": {
    "collapsed": true
   },
   "outputs": [],
   "source": []
  }
 ],
 "metadata": {
  "kernelspec": {
   "display_name": "Python 3",
   "language": "python",
   "name": "python3"
  },
  "language_info": {
   "codemirror_mode": {
    "name": "ipython",
    "version": 3
   },
   "file_extension": ".py",
   "mimetype": "text/x-python",
   "name": "python",
   "nbconvert_exporter": "python",
   "pygments_lexer": "ipython3",
   "version": "3.5.2"
  }
 },
 "nbformat": 4,
 "nbformat_minor": 1
}
